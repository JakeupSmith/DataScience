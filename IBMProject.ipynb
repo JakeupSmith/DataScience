{
 "cells": [
  {
   "cell_type": "markdown",
   "id": "5dbf8954",
   "metadata": {},
   "source": [
    "# My Jupyter Notebook on IBM Watson Studio"
   ]
  },
  {
   "cell_type": "markdown",
   "id": "8c603b2a",
   "metadata": {},
   "source": [
    "**Jacob Smith**\n",
    "Data Scientist"
   ]
  },
  {
   "cell_type": "markdown",
   "id": "84af120c",
   "metadata": {},
   "source": [
    "*I am interested in Data Science because I have a passion for coding and graphs. I've always found it relatively easy, and I believe it will be an enjoyable career for me.*"
   ]
  },
  {
   "cell_type": "markdown",
   "id": "427065c8",
   "metadata": {},
   "source": [
    "### Prints the numbers 1-10"
   ]
  },
  {
   "cell_type": "code",
   "execution_count": 3,
   "id": "99453db6",
   "metadata": {},
   "outputs": [
    {
     "name": "stdout",
     "output_type": "stream",
     "text": [
      "1\n",
      "2\n",
      "3\n",
      "4\n",
      "5\n",
      "6\n",
      "7\n",
      "8\n",
      "9\n",
      "10\n"
     ]
    }
   ],
   "source": [
    "numbers = range(1,11)\n",
    "for i in numbers:\n",
    "    print(i)"
   ]
  },
  {
   "cell_type": "markdown",
   "id": "25eee98d",
   "metadata": {},
   "source": [
    "<blockquote> This is a blockquote! </blockquote>"
   ]
  },
  {
   "cell_type": "markdown",
   "id": "fd99655b",
   "metadata": {},
   "source": [
    "~~StrikeTHROUGH~~ As you can see "
   ]
  },
  {
   "cell_type": "markdown",
   "id": "691af447",
   "metadata": {},
   "source": [
    "***\n",
    "Horizontal Rules\n",
    "***"
   ]
  },
  {
   "cell_type": "code",
   "execution_count": null,
   "id": "b4017b21",
   "metadata": {},
   "outputs": [],
   "source": []
  }
 ],
 "metadata": {
  "kernelspec": {
   "display_name": "Python 3 (ipykernel)",
   "language": "python",
   "name": "python3"
  },
  "language_info": {
   "codemirror_mode": {
    "name": "ipython",
    "version": 3
   },
   "file_extension": ".py",
   "mimetype": "text/x-python",
   "name": "python",
   "nbconvert_exporter": "python",
   "pygments_lexer": "ipython3",
   "version": "3.9.12"
  }
 },
 "nbformat": 4,
 "nbformat_minor": 5
}
